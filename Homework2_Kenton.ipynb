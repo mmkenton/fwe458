{
  "nbformat": 4,
  "nbformat_minor": 0,
  "metadata": {
    "colab": {
      "provenance": []
    },
    "kernelspec": {
      "name": "python3",
      "display_name": "Python 3"
    },
    "language_info": {
      "name": "python"
    }
  },
  "cells": [
    {
      "cell_type": "code",
      "execution_count": 5,
      "metadata": {
        "colab": {
          "base_uri": "https://localhost:8080/"
        },
        "id": "-qIgmr79sZrd",
        "outputId": "46939853-45e0-427e-bbd3-17f5de8623b8"
      },
      "outputs": [
        {
          "output_type": "stream",
          "name": "stdout",
          "text": [
            "[83, 60, 8, 99, 98, 41, 21, 40, 75, 54, 73, 39, 10, 34, 95, 74, 88, 12, 1, 68, 67, 31, 49, 15, 22, 2, 37, 43, 69, 55, 76, 9, 35, 17, 94, 85, 6, 46, 53, 16, 19, 24, 44, 18, 56, 50, 33, 91, 78, 81]\n"
          ]
        }
      ],
      "source": [
        "import random\n",
        "\n",
        "#randomly generate a list of 50 numbers between 1 and 100\n",
        "l = random.sample(range(1, 101), 50)\n",
        "\n",
        "#print the list to show that it is randomized\n",
        "print(l)"
      ]
    },
    {
      "cell_type": "code",
      "source": [
        "#define the bubble sort function\n",
        "def bubble_sort(arr):\n",
        "\n",
        "  #create a loop that repeats for every element in the list\n",
        "  for i in range(len(arr)):\n",
        "\n",
        "    #iterate through the sorted elements\n",
        "    for j in range(0, len(arr) - i - 1):\n",
        "\n",
        "      #if element j is greater than the element at one higher index position, switch the positions of those two elements\n",
        "      #this continues to happen until the if statement is no longer true\n",
        "      if arr[j] > arr[j + 1]:\n",
        "        arr[j], arr[j+1] = arr[j+1], arr[j]\n",
        "\n",
        "  #return the sorted list\n",
        "  return arr\n",
        "\n",
        "bubble_sort(l)"
      ],
      "metadata": {
        "colab": {
          "base_uri": "https://localhost:8080/"
        },
        "id": "hQE7-INatT5l",
        "outputId": "1a7f67a4-93ee-4970-81d0-65ba53db4bdf"
      },
      "execution_count": 6,
      "outputs": [
        {
          "output_type": "execute_result",
          "data": {
            "text/plain": [
              "[1,\n",
              " 2,\n",
              " 6,\n",
              " 8,\n",
              " 9,\n",
              " 10,\n",
              " 12,\n",
              " 15,\n",
              " 16,\n",
              " 17,\n",
              " 18,\n",
              " 19,\n",
              " 21,\n",
              " 22,\n",
              " 24,\n",
              " 31,\n",
              " 33,\n",
              " 34,\n",
              " 35,\n",
              " 37,\n",
              " 39,\n",
              " 40,\n",
              " 41,\n",
              " 43,\n",
              " 44,\n",
              " 46,\n",
              " 49,\n",
              " 50,\n",
              " 53,\n",
              " 54,\n",
              " 55,\n",
              " 56,\n",
              " 60,\n",
              " 67,\n",
              " 68,\n",
              " 69,\n",
              " 73,\n",
              " 74,\n",
              " 75,\n",
              " 76,\n",
              " 78,\n",
              " 81,\n",
              " 83,\n",
              " 85,\n",
              " 88,\n",
              " 91,\n",
              " 94,\n",
              " 95,\n",
              " 98,\n",
              " 99]"
            ]
          },
          "metadata": {},
          "execution_count": 6
        }
      ]
    },
    {
      "cell_type": "code",
      "source": [
        "#define the insertion sort function\n",
        "def insertionsort(arr):\n",
        "\n",
        "    #create a loop that iterates once for each element in the list\n",
        "    for i in range(1, len(arr)):\n",
        "\n",
        "      #define value as the value at index position i in the list\n",
        "      value = arr[i]\n",
        "      #define j as one less than the current index position\n",
        "      j = i - 1\n",
        "\n",
        "      #create a loop that runs while j is greater than 0 and the value at index position j is greater than the value at index position i\n",
        "      while j >= 0 and arr[j] > value:\n",
        "        #arr[j + 1] takes on the value of arr[j], effectively shifting arr[j] to the right\n",
        "        arr[j + 1] = arr[j]\n",
        "        #the value of j is decreased by one\n",
        "        j -= 1\n",
        "\n",
        "      #arr[j + 1] takes on the value of the value stored at index position i\n",
        "      arr[j + 1] = value\n",
        "\n",
        "    #the sorted list is returned\n",
        "    return(arr)\n",
        "\n",
        "l = random.sample(range(1, 101), 50)\n",
        "print(l)\n",
        "insertionsort(l)"
      ],
      "metadata": {
        "colab": {
          "base_uri": "https://localhost:8080/"
        },
        "id": "A2HuFw7FvKvs",
        "outputId": "05799c6d-52a4-4cb7-f9ea-5108f0661c22"
      },
      "execution_count": 14,
      "outputs": [
        {
          "output_type": "stream",
          "name": "stdout",
          "text": [
            "[68, 17, 81, 18, 60, 64, 31, 5, 56, 88, 10, 62, 35, 51, 13, 84, 49, 37, 74, 82, 76, 100, 41, 98, 15, 27, 30, 16, 54, 36, 94, 40, 42, 59, 33, 47, 66, 79, 72, 57, 48, 53, 20, 87, 99, 14, 29, 21, 38, 8]\n"
          ]
        },
        {
          "output_type": "execute_result",
          "data": {
            "text/plain": [
              "[5,\n",
              " 8,\n",
              " 10,\n",
              " 13,\n",
              " 14,\n",
              " 15,\n",
              " 16,\n",
              " 17,\n",
              " 18,\n",
              " 20,\n",
              " 21,\n",
              " 27,\n",
              " 29,\n",
              " 30,\n",
              " 31,\n",
              " 33,\n",
              " 35,\n",
              " 36,\n",
              " 37,\n",
              " 38,\n",
              " 40,\n",
              " 41,\n",
              " 42,\n",
              " 47,\n",
              " 48,\n",
              " 49,\n",
              " 51,\n",
              " 53,\n",
              " 54,\n",
              " 56,\n",
              " 57,\n",
              " 59,\n",
              " 60,\n",
              " 62,\n",
              " 64,\n",
              " 66,\n",
              " 68,\n",
              " 72,\n",
              " 74,\n",
              " 76,\n",
              " 79,\n",
              " 81,\n",
              " 82,\n",
              " 84,\n",
              " 87,\n",
              " 88,\n",
              " 94,\n",
              " 98,\n",
              " 99,\n",
              " 100]"
            ]
          },
          "metadata": {},
          "execution_count": 14
        }
      ]
    }
  ]
}